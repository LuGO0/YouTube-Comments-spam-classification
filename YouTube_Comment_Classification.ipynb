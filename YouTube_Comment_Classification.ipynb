{
  "nbformat": 4,
  "nbformat_minor": 0,
  "metadata": {
    "kernelspec": {
      "display_name": "Python 3",
      "language": "python",
      "name": "python3"
    },
    "language_info": {
      "codemirror_mode": {
        "name": "ipython",
        "version": 3
      },
      "file_extension": ".py",
      "mimetype": "text/x-python",
      "name": "python",
      "nbconvert_exporter": "python",
      "pygments_lexer": "ipython3",
      "version": "3.6.5"
    },
    "colab": {
      "name": "YouTube Comment Classification .ipynb",
      "provenance": []
    }
  },
  "cells": [
    {
      "cell_type": "code",
      "metadata": {
        "id": "fnKPxtQM9hbB",
        "colab_type": "code",
        "colab": {}
      },
      "source": [
        "import tensorflow as tf\n",
        "import tensorflow_datasets as tfds\n",
        "import tensorflow_hub as hub"
      ],
      "execution_count": 0,
      "outputs": []
    },
    {
      "cell_type": "code",
      "metadata": {
        "id": "jXMMXLra9hbF",
        "colab_type": "code",
        "colab": {}
      },
      "source": [
        "import numpy as np \n",
        "import pandas as pd\n",
        "import matplotlib.pyplot as plt"
      ],
      "execution_count": 0,
      "outputs": []
    },
    {
      "cell_type": "code",
      "metadata": {
        "id": "RgyHcmd69hbH",
        "colab_type": "code",
        "colab": {}
      },
      "source": [
        ""
      ],
      "execution_count": 0,
      "outputs": []
    },
    {
      "cell_type": "code",
      "metadata": {
        "id": "uZwIhBiq9hbK",
        "colab_type": "code",
        "colab": {}
      },
      "source": [
        "#read dataset\n",
        "Psy = pd.read_csv('Youtube01-Psy.csv')\n",
        "Katy = pd.read_csv('Youtube02-KatyPerry.csv')\n",
        "Eminem = pd.read_csv('Youtube04-Eminem.csv')\n",
        "Shakira = pd.read_csv('Youtube05-Shakira.csv')\n",
        "LMFAO = pd.read_csv('Youtube03-LMFAO.csv')"
      ],
      "execution_count": 0,
      "outputs": []
    },
    {
      "cell_type": "markdown",
      "metadata": {
        "id": "p_W_8x5-9hbM",
        "colab_type": "text"
      },
      "source": [
        "## PREPROCESSING"
      ]
    },
    {
      "cell_type": "code",
      "metadata": {
        "id": "9LutkqvJ9hbN",
        "colab_type": "code",
        "colab": {},
        "outputId": "ccd85fc7-6747-4ba5-8b2a-4d443147d2ef"
      },
      "source": [
        "#date insignificant parameter\n",
        "\n",
        "df = pd.concat([Shakira, Eminem, Katy, Psy, LMFAO])\n",
        "df.drop('DATE', axis=1, inplace=True)\n",
        "\n",
        "df.shape"
      ],
      "execution_count": 0,
      "outputs": [
        {
          "output_type": "execute_result",
          "data": {
            "text/plain": [
              "(1956, 4)"
            ]
          },
          "metadata": {
            "tags": []
          },
          "execution_count": 4
        }
      ]
    },
    {
      "cell_type": "code",
      "metadata": {
        "id": "MI-hxFa09hbQ",
        "colab_type": "code",
        "colab": {},
        "outputId": "3721310b-c2a2-406d-dd75-64f1c6a770d7"
      },
      "source": [
        "df.head()"
      ],
      "execution_count": 0,
      "outputs": [
        {
          "output_type": "execute_result",
          "data": {
            "text/html": [
              "<div>\n",
              "<style scoped>\n",
              "    .dataframe tbody tr th:only-of-type {\n",
              "        vertical-align: middle;\n",
              "    }\n",
              "\n",
              "    .dataframe tbody tr th {\n",
              "        vertical-align: top;\n",
              "    }\n",
              "\n",
              "    .dataframe thead th {\n",
              "        text-align: right;\n",
              "    }\n",
              "</style>\n",
              "<table border=\"1\" class=\"dataframe\">\n",
              "  <thead>\n",
              "    <tr style=\"text-align: right;\">\n",
              "      <th></th>\n",
              "      <th>COMMENT_ID</th>\n",
              "      <th>AUTHOR</th>\n",
              "      <th>CONTENT</th>\n",
              "      <th>CLASS</th>\n",
              "    </tr>\n",
              "  </thead>\n",
              "  <tbody>\n",
              "    <tr>\n",
              "      <th>0</th>\n",
              "      <td>z13lgffb5w3ddx1ul22qy1wxspy5cpkz504</td>\n",
              "      <td>dharma pal</td>\n",
              "      <td>Nice song﻿</td>\n",
              "      <td>0</td>\n",
              "    </tr>\n",
              "    <tr>\n",
              "      <th>1</th>\n",
              "      <td>z123dbgb0mqjfxbtz22ucjc5jvzcv3ykj</td>\n",
              "      <td>Tiza Arellano</td>\n",
              "      <td>I love song ﻿</td>\n",
              "      <td>0</td>\n",
              "    </tr>\n",
              "    <tr>\n",
              "      <th>2</th>\n",
              "      <td>z12quxxp2vutflkxv04cihggzt2azl34pms0k</td>\n",
              "      <td>Prìñçeśś Âliś Łøvê Dømíñø Mâđiś™ ﻿</td>\n",
              "      <td>I love song ﻿</td>\n",
              "      <td>0</td>\n",
              "    </tr>\n",
              "    <tr>\n",
              "      <th>3</th>\n",
              "      <td>z12icv3ysqvlwth2c23eddlykyqut5z1h</td>\n",
              "      <td>Eric Gonzalez</td>\n",
              "      <td>860,000,000 lets make it first female to reach...</td>\n",
              "      <td>0</td>\n",
              "    </tr>\n",
              "    <tr>\n",
              "      <th>4</th>\n",
              "      <td>z133stly3kete3tly22petvwdpmghrlli</td>\n",
              "      <td>Analena López</td>\n",
              "      <td>shakira is best for worldcup﻿</td>\n",
              "      <td>0</td>\n",
              "    </tr>\n",
              "  </tbody>\n",
              "</table>\n",
              "</div>"
            ],
            "text/plain": [
              "                              COMMENT_ID                              AUTHOR  \\\n",
              "0    z13lgffb5w3ddx1ul22qy1wxspy5cpkz504                          dharma pal   \n",
              "1      z123dbgb0mqjfxbtz22ucjc5jvzcv3ykj                       Tiza Arellano   \n",
              "2  z12quxxp2vutflkxv04cihggzt2azl34pms0k  Prìñçeśś Âliś Łøvê Dømíñø Mâđiś™ ﻿   \n",
              "3      z12icv3ysqvlwth2c23eddlykyqut5z1h                       Eric Gonzalez   \n",
              "4      z133stly3kete3tly22petvwdpmghrlli                       Analena López   \n",
              "\n",
              "                                             CONTENT  CLASS  \n",
              "0                                         Nice song﻿      0  \n",
              "1                                      I love song ﻿      0  \n",
              "2                                      I love song ﻿      0  \n",
              "3  860,000,000 lets make it first female to reach...      0  \n",
              "4                      shakira is best for worldcup﻿      0  "
            ]
          },
          "metadata": {
            "tags": []
          },
          "execution_count": 5
        }
      ]
    },
    {
      "cell_type": "code",
      "metadata": {
        "id": "IcU9UNdw9hbS",
        "colab_type": "code",
        "colab": {},
        "outputId": "914f9e49-bcc4-4e97-c27e-975f182d4751"
      },
      "source": [
        "\n",
        "#class plot to compare number of data values of each class\n",
        "df['CLASS'].value_counts().plot(kind='bar')"
      ],
      "execution_count": 0,
      "outputs": [
        {
          "output_type": "execute_result",
          "data": {
            "text/plain": [
              "<matplotlib.axes._subplots.AxesSubplot at 0x2342581f160>"
            ]
          },
          "metadata": {
            "tags": []
          },
          "execution_count": 6
        },
        {
          "output_type": "display_data",
          "data": {
            "image/png": "[encoded data removed]",
            "text/plain": [
              "<Figure size 432x288 with 1 Axes>"
            ]
          },
          "metadata": {
            "tags": [],
            "needs_background": "light"
          }
        }
      ]
    },
    {
      "cell_type": "code",
      "metadata": {
        "id": "AoYxDfBI9hbW",
        "colab_type": "code",
        "colab": {},
        "outputId": "5a4707b4-972f-4193-d36c-6c061b578778"
      },
      "source": [
        "#balanced data check\n",
        "\n",
        "classes = df['CLASS']\n",
        "print(classes.value_counts())"
      ],
      "execution_count": 0,
      "outputs": [
        {
          "output_type": "stream",
          "text": [
            "1    1005\n",
            "0     951\n",
            "Name: CLASS, dtype: int64\n"
          ],
          "name": "stdout"
        }
      ]
    },
    {
      "cell_type": "code",
      "metadata": {
        "id": "Vw-xt0bU9hbZ",
        "colab_type": "code",
        "colab": {}
      },
      "source": [
        "text_messages = df[\"CONTENT\"]"
      ],
      "execution_count": 0,
      "outputs": []
    },
    {
      "cell_type": "code",
      "metadata": {
        "id": "yRli973n9hbb",
        "colab_type": "code",
        "colab": {}
      },
      "source": [
        "#REGEX TO ENCODE useless data as in emails, numbers etc into useful text features\n",
        "\n",
        "# Replace email addresses with 'email'\n",
        "processed = text_messages.str.replace(r'^.+@[^\\.].*\\.[a-z]{2,}$',\n",
        "                                 'emailaddress')\n",
        "\n",
        "# Replace URLs with 'webaddress'\n",
        "processed = processed.str.replace(r'^http\\://[a-zA-Z0-9\\-\\.]+\\.[a-zA-Z]{2,3}(/\\S*)?$',\n",
        "                                  'webaddress')\n",
        "\n",
        "# Replace money symbols with 'moneysymb' \n",
        "processed = processed.str.replace(r'£|\\$', 'moneysymb')\n",
        "    \n",
        "# Replace 10 digit phone numbers (formats include paranthesis, spaces, no spaces, dashes) with 'phonenumber'\n",
        "processed = processed.str.replace(r'^\\(?[\\d]{3}\\)?[\\s-]?[\\d]{3}[\\s-]?[\\d]{4}$',\n",
        "                                  'phonenumbr')\n",
        "    \n",
        "# Replace numbers with 'numbr'\n",
        "processed = processed.str.replace(r'\\d+(\\.\\d+)?', 'numbr')"
      ],
      "execution_count": 0,
      "outputs": []
    },
    {
      "cell_type": "code",
      "metadata": {
        "id": "zeSzSFyc9hbc",
        "colab_type": "code",
        "colab": {},
        "outputId": "ef039697-9068-4103-a78f-be9ced55a96a"
      },
      "source": [
        "print(text_messages[:10])"
      ],
      "execution_count": 0,
      "outputs": [
        {
          "output_type": "stream",
          "text": [
            "0                                           Nice song﻿\n",
            "1                                        I love song ﻿\n",
            "2                                        I love song ﻿\n",
            "3    860,000,000 lets make it first female to reach...\n",
            "4                        shakira is best for worldcup﻿\n",
            "5                    The best world cup song ever!!!!﻿\n",
            "6                                              I love﻿\n",
            "7    SEE SOME MORE SONG OPEN GOOGLE AND TYPE Shakir...\n",
            "8                                            Awesome ﻿\n",
            "9                                    I like shakira..﻿\n",
            "Name: CONTENT, dtype: object\n"
          ],
          "name": "stdout"
        }
      ]
    },
    {
      "cell_type": "code",
      "metadata": {
        "id": "RUoQJ90p9hbf",
        "colab_type": "code",
        "colab": {}
      },
      "source": [
        "processed = processed.str.replace(r'[^\\w\\d\\s]', ' ')\n",
        "\n",
        "# Replace whitespace between terms with a single space\n",
        "processed = processed.str.replace(r'\\s+', ' ')\n",
        "\n",
        "# Remove leading and trailing whitespace\n",
        "processed = processed.str.replace(r'^\\s+|\\s+?$', '')"
      ],
      "execution_count": 0,
      "outputs": []
    },
    {
      "cell_type": "code",
      "metadata": {
        "id": "IPdOUfDp9hbh",
        "colab_type": "code",
        "colab": {},
        "outputId": "29e1b249-daed-4706-a389-e90a08ccc6df"
      },
      "source": [
        "processed = processed.str.lower()\n",
        "print(processed)"
      ],
      "execution_count": 0,
      "outputs": [
        {
          "output_type": "stream",
          "text": [
            "0                                              nice song\n",
            "1                                            i love song\n",
            "2                                            i love song\n",
            "3      numbr numbr numbr lets make it first female to...\n",
            "4                           shakira is best for worldcup\n",
            "                             ...                        \n",
            "433                      like this comment for no reason\n",
            "434                                       love this song\n",
            "435    this song is awesome these guys are the best l...\n",
            "436          how many thumbs up for louis saving the day\n",
            "437                                           nice numbr\n",
            "Name: CONTENT, Length: 1956, dtype: object\n"
          ],
          "name": "stdout"
        }
      ]
    },
    {
      "cell_type": "code",
      "metadata": {
        "scrolled": true,
        "id": "bq0dDXTu9hbj",
        "colab_type": "code",
        "colab": {},
        "outputId": "a3a59e32-cc36-4392-94c0-28dd118220b5"
      },
      "source": [
        "#nlp\n",
        "\n",
        "\n",
        "import nltk\n",
        "nltk.download('punkt')\n",
        "nltk.download('stopwords')"
      ],
      "execution_count": 0,
      "outputs": [
        {
          "output_type": "stream",
          "text": [
            "[nltk_data] Downloading package punkt to\n",
            "[nltk_data]     C:\\Users\\HP\\AppData\\Roaming\\nltk_data...\n",
            "[nltk_data]   Package punkt is already up-to-date!\n",
            "[nltk_data] Downloading package stopwords to\n",
            "[nltk_data]     C:\\Users\\HP\\AppData\\Roaming\\nltk_data...\n",
            "[nltk_data]   Package stopwords is already up-to-date!\n"
          ],
          "name": "stderr"
        },
        {
          "output_type": "execute_result",
          "data": {
            "text/plain": [
              "True"
            ]
          },
          "metadata": {
            "tags": []
          },
          "execution_count": 13
        }
      ]
    },
    {
      "cell_type": "code",
      "metadata": {
        "id": "ke5zDFmA9hbl",
        "colab_type": "code",
        "colab": {}
      },
      "source": [
        "#stop words removal\n",
        "\n",
        "\n",
        "\n",
        "\n",
        "\n",
        "from nltk.corpus import stopwords\n",
        "\n",
        "\n",
        "stop_words = set(stopwords.words('english'))\n",
        "\n",
        "processed = processed.apply(lambda x: ' '.join(\n",
        "    term for term in x.split() if term not in stop_words))"
      ],
      "execution_count": 0,
      "outputs": []
    },
    {
      "cell_type": "code",
      "metadata": {
        "id": "NaFSwVtW9hbn",
        "colab_type": "code",
        "colab": {}
      },
      "source": [
        "#stemming\n",
        "\n",
        "ps = nltk.PorterStemmer()\n",
        "\n",
        "processed = processed.apply(lambda x: ' '.join(\n",
        "    ps.stem(term) for term in x.split()))"
      ],
      "execution_count": 0,
      "outputs": []
    },
    {
      "cell_type": "code",
      "metadata": {
        "id": "p6eKh9UX9hbp",
        "colab_type": "code",
        "colab": {}
      },
      "source": [
        "#tokenising data helps detect patterns in data\n",
        "\n",
        "from nltk.tokenize import word_tokenize\n",
        "\n",
        "all_words = []\n",
        "\n",
        "for message in processed:\n",
        "    words = word_tokenize(message)\n",
        "    for w in words:\n",
        "        all_words.append(w)\n",
        "        \n",
        "all_words = nltk.FreqDist(all_words)"
      ],
      "execution_count": 0,
      "outputs": []
    },
    {
      "cell_type": "code",
      "metadata": {
        "id": "j6Gu9TJo9hbr",
        "colab_type": "code",
        "colab": {},
        "outputId": "1f6734a3-44ff-4561-fed5-cfd8529a4fcf"
      },
      "source": [
        "print('Number of words: {}'.format(len(all_words)))\n",
        "print('Most common words: {}'.format(all_words.most_common(15)))"
      ],
      "execution_count": 0,
      "outputs": [
        {
          "output_type": "stream",
          "text": [
            "Number of words: 3472\n",
            "Most common words: [('numbr', 1133), ('check', 581), ('video', 386), ('song', 340), ('com', 284), ('subscrib', 277), ('like', 272), ('youtub', 272), ('br', 258), ('pleas', 249), ('http', 236), ('love', 220), ('channel', 200), ('music', 157), ('make', 139)]\n"
          ],
          "name": "stdout"
        }
      ]
    },
    {
      "cell_type": "code",
      "metadata": {
        "id": "WOoeQpaQ9hbt",
        "colab_type": "code",
        "colab": {}
      },
      "source": [
        "NO_OF_FEATURES=2000\n",
        "word_features = list(all_words.keys())[:NO_OF_FEATURES]"
      ],
      "execution_count": 0,
      "outputs": []
    },
    {
      "cell_type": "code",
      "metadata": {
        "id": "rGNtrs5g9hbv",
        "colab_type": "code",
        "colab": {},
        "outputId": "c17b3b4d-0f12-4513-f770-88e785457875"
      },
      "source": [
        "#feature extraction based on top 1500 frequently occuring words\n",
        "\n",
        "def find_features(message):\n",
        "    words = word_tokenize(message)\n",
        "    features = {}\n",
        "    for word in word_features:\n",
        "        features[word] = (word in words)\n",
        "\n",
        "    return features\n",
        "\n",
        "features = find_features(str(processed[0]))\n",
        "for key, value in features.items():\n",
        "    if value == True:\n",
        "        print (key)"
      ],
      "execution_count": 0,
      "outputs": [
        {
          "output_type": "stream",
          "text": [
            "nice\n",
            "song\n",
            "love\n",
            "numbr\n",
            "watch\n",
            "much\n",
            "check\n",
            "youtub\n",
            "com\n",
            "href\n",
            "http\n",
            "www\n",
            "v\n",
            "amp\n",
            "channel\n",
            "girl\n",
            "xxx\n",
            "also\n",
            "free\n",
            "gener\n",
            "tube\n",
            "talk\n",
            "huh\n",
            "lead\n",
            "auto\n",
            "pilot\n"
          ],
          "name": "stdout"
        }
      ]
    },
    {
      "cell_type": "code",
      "metadata": {
        "id": "-C79mqx99hbx",
        "colab_type": "code",
        "colab": {}
      },
      "source": [
        "messages = list(zip(processed, classes))\n",
        "\n",
        "\n",
        "#seeding to have similar shuffling for each run and hence prevent overfitting\n",
        "seed = 1\n",
        "np.random.seed = seed\n",
        "np.random.shuffle(messages)\n",
        "\n",
        "featuresets = [(find_features(text), label) for (text, label) in messages]"
      ],
      "execution_count": 0,
      "outputs": []
    },
    {
      "cell_type": "code",
      "metadata": {
        "id": "Dcw8E5_k9hbz",
        "colab_type": "code",
        "colab": {}
      },
      "source": [
        "\n",
        "#split data into train and test for accuracy check later \n",
        "\n",
        "from sklearn import model_selection\n",
        "\n",
        "training, testing = model_selection.train_test_split(featuresets, test_size = 0.25, random_state=seed)"
      ],
      "execution_count": 0,
      "outputs": []
    },
    {
      "cell_type": "code",
      "metadata": {
        "id": "GRz76gll9hb1",
        "colab_type": "code",
        "colab": {},
        "outputId": "72a958aa-5713-48bd-cdc1-4ce4933b9b63"
      },
      "source": [
        "print(len(training))\n",
        "print(len(testing))"
      ],
      "execution_count": 0,
      "outputs": [
        {
          "output_type": "stream",
          "text": [
            "1467\n",
            "489\n"
          ],
          "name": "stdout"
        }
      ]
    },
    {
      "cell_type": "code",
      "metadata": {
        "id": "azHEeACK9hb3",
        "colab_type": "code",
        "colab": {}
      },
      "source": [
        "from warnings import simplefilter\n",
        "simplefilter(action='ignore', category=FutureWarning)"
      ],
      "execution_count": 0,
      "outputs": []
    },
    {
      "cell_type": "code",
      "metadata": {
        "id": "WR_ToTLE951O",
        "colab_type": "code",
        "colab": {}
      },
      "source": [
        ""
      ],
      "execution_count": 0,
      "outputs": []
    },
    {
      "cell_type": "markdown",
      "metadata": {
        "id": "vKumc4V49hb5",
        "colab_type": "text"
      },
      "source": [
        "## MODEL COMPILATION AND CLASSIFYING"
      ]
    },
    {
      "cell_type": "code",
      "metadata": {
        "id": "d_aBNG8M9hb6",
        "colab_type": "code",
        "colab": {},
        "outputId": "183e4b4f-7593-4b1a-e8d5-2309150d3bbc"
      },
      "source": [
        "\n",
        "#accuracy of various classifiers checked to find the best model\n",
        "\n",
        "\n",
        "from nltk.classify.scikitlearn import SklearnClassifier\n",
        "from sklearn.tree import DecisionTreeClassifier\n",
        "from sklearn.ensemble import RandomForestClassifier\n",
        "from sklearn.linear_model import LogisticRegression, SGDClassifier\n",
        "from sklearn.naive_bayes import MultinomialNB\n",
        "from sklearn.svm import SVC\n",
        "from sklearn.metrics import classification_report, accuracy_score, confusion_matrix\n",
        "from sklearn.neighbors import KNeighborsClassifier\n",
        "\n",
        "# Define models to train\n",
        "names = [\"K Nearest Neighbors\", \"Decision Tree\", \"Random Forest\", \"Logistic Regression\", \"SGD Classifier\",\n",
        "         \"Naive Bayes\", \"SVM Linear\"]\n",
        "\n",
        "classifiers = [\n",
        "    KNeighborsClassifier(),\n",
        "    DecisionTreeClassifier(),\n",
        "    RandomForestClassifier(),\n",
        "    LogisticRegression(),\n",
        "    SGDClassifier(max_iter = 100),\n",
        "    MultinomialNB(),\n",
        "    SVC(kernel = 'linear')\n",
        "]\n",
        "\n",
        "models = zip(names, classifiers)\n",
        "names1 = []\n",
        "results = []\n",
        "\n",
        "#model evaluation\n",
        "for name, model in models:\n",
        "    nltk_model = SklearnClassifier(model)\n",
        "    nltk_model.train(training)\n",
        "    accuracy = nltk.classify.accuracy(nltk_model, testing)*100\n",
        " \n",
        "        \n",
        "    print(\"{} Accuracy: {}\".format(name, accuracy))\n",
        "    names1.append(name)\n",
        "    results.append(accuracy)"
      ],
      "execution_count": 0,
      "outputs": [
        {
          "output_type": "stream",
          "text": [
            "K Nearest Neighbors Accuracy: 85.68507157464212\n",
            "Decision Tree Accuracy: 96.93251533742331\n",
            "Random Forest Accuracy: 97.54601226993866\n",
            "Logistic Regression Accuracy: 96.93251533742331\n",
            "SGD Classifier Accuracy: 96.11451942740287\n",
            "Naive Bayes Accuracy: 90.1840490797546\n",
            "SVM Linear Accuracy: 95.91002044989774\n"
          ],
          "name": "stdout"
        }
      ]
    },
    {
      "cell_type": "markdown",
      "metadata": {
        "id": "wARZGCgB9-I_",
        "colab_type": "text"
      },
      "source": [
        "## **EVALUATION**\n"
      ]
    },
    {
      "cell_type": "code",
      "metadata": {
        "scrolled": true,
        "id": "B_rcovwL9hb8",
        "colab_type": "code",
        "colab": {},
        "outputId": "b5711bdf-6491-4dcb-f401-21a4c166c1ea"
      },
      "source": [
        "values=list(range(0,7))\n",
        "plt.plot(results,names,'go--')\n",
        "\n",
        "plt.show()\n",
        "plt.savefig(\"2000-features.jpg\")"
      ],
      "execution_count": 0,
      "outputs": [
        {
          "output_type": "display_data",
          "data": {
            "image/png": "[encoded data removed]",
            "text/plain": [
              "<Figure size 432x288 with 1 Axes>"
            ]
          },
          "metadata": {
            "tags": [],
            "needs_background": "light"
          }
        },
        {
          "output_type": "display_data",
          "data": {
            "text/plain": [
              "<Figure size 432x288 with 0 Axes>"
            ]
          },
          "metadata": {
            "tags": []
          }
        }
      ]
    },
    {
      "cell_type": "code",
      "metadata": {
        "id": "G65L0xFM9hb_",
        "colab_type": "code",
        "colab": {}
      },
      "source": [
        "txt_features, labels = zip(*testing)"
      ],
      "execution_count": 0,
      "outputs": []
    },
    {
      "cell_type": "code",
      "metadata": {
        "id": "8BeyY9Kw9hcA",
        "colab_type": "code",
        "colab": {}
      },
      "source": [
        ""
      ],
      "execution_count": 0,
      "outputs": []
    },
    {
      "cell_type": "code",
      "metadata": {
        "id": "V-XQ6xT69hcC",
        "colab_type": "code",
        "colab": {},
        "outputId": "8b82137b-e5b3-4cfc-b198-c5b6001c8a80"
      },
      "source": [
        "#max_accurate model\n",
        "#final results to be obtained with highest accuracy model\n",
        "index=results.index(max(results))\n",
        "best_model=classifiers[index]\n",
        "print(best_model)"
      ],
      "execution_count": 0,
      "outputs": [
        {
          "output_type": "stream",
          "text": [
            "RandomForestClassifier(bootstrap=True, ccp_alpha=0.0, class_weight=None,\n",
            "                       criterion='gini', max_depth=None, max_features='auto',\n",
            "                       max_leaf_nodes=None, max_samples=None,\n",
            "                       min_impurity_decrease=0.0, min_impurity_split=None,\n",
            "                       min_samples_leaf=1, min_samples_split=2,\n",
            "                       min_weight_fraction_leaf=0.0, n_estimators=100,\n",
            "                       n_jobs=None, oob_score=False, random_state=None,\n",
            "                       verbose=0, warm_start=False)\n"
          ],
          "name": "stdout"
        }
      ]
    },
    {
      "cell_type": "code",
      "metadata": {
        "scrolled": true,
        "id": "36kgo1-Y9hcE",
        "colab_type": "code",
        "colab": {},
        "outputId": "2fce5443-c4d3-4160-dcb8-58c89fd228f4"
      },
      "source": [
        "\n",
        "\n",
        "nltk_model=SklearnClassifier(best_model)\n",
        "nltk_model.train(training)\n",
        "prediction = nltk_model.classify_many(txt_features)\n",
        "print(nltk_model)"
      ],
      "execution_count": 0,
      "outputs": [
        {
          "output_type": "stream",
          "text": [
            "<SklearnClassifier(RandomForestClassifier(bootstrap=True, ccp_alpha=0.0, class_weight=None,\n",
            "                       criterion='gini', max_depth=None, max_features='auto',\n",
            "                       max_leaf_nodes=None, max_samples=None,\n",
            "                       min_impurity_decrease=0.0, min_impurity_split=None,\n",
            "                       min_samples_leaf=1, min_samples_split=2,\n",
            "                       min_weight_fraction_leaf=0.0, n_estimators=100,\n",
            "                       n_jobs=None, oob_score=False, random_state=None,\n",
            "                       verbose=0, warm_start=False))>\n"
          ],
          "name": "stdout"
        }
      ]
    },
    {
      "cell_type": "code",
      "metadata": {
        "id": "1xzHeusH9hcH",
        "colab_type": "code",
        "colab": {},
        "outputId": "67a237d6-22b4-4838-b648-4589d0ee420c"
      },
      "source": [
        "# print a confusion matrix and a classification report\n",
        "print(classification_report(labels, prediction))\n",
        "\n",
        "pd.DataFrame(\n",
        "    confusion_matrix(labels, prediction),\n",
        "    index = [['actual', 'actual'], ['ham', 'spam']],\n",
        "    columns = [['predicted', 'predicted'], ['ham', 'spam']])"
      ],
      "execution_count": 0,
      "outputs": [
        {
          "output_type": "stream",
          "text": [
            "              precision    recall  f1-score   support\n",
            "\n",
            "           0       0.95      0.99      0.97       247\n",
            "           1       0.99      0.94      0.97       242\n",
            "\n",
            "    accuracy                           0.97       489\n",
            "   macro avg       0.97      0.97      0.97       489\n",
            "weighted avg       0.97      0.97      0.97       489\n",
            "\n"
          ],
          "name": "stdout"
        },
        {
          "output_type": "execute_result",
          "data": {
            "text/html": [
              "<div>\n",
              "<style scoped>\n",
              "    .dataframe tbody tr th:only-of-type {\n",
              "        vertical-align: middle;\n",
              "    }\n",
              "\n",
              "    .dataframe tbody tr th {\n",
              "        vertical-align: top;\n",
              "    }\n",
              "\n",
              "    .dataframe thead tr th {\n",
              "        text-align: left;\n",
              "    }\n",
              "</style>\n",
              "<table border=\"1\" class=\"dataframe\">\n",
              "  <thead>\n",
              "    <tr>\n",
              "      <th></th>\n",
              "      <th></th>\n",
              "      <th colspan=\"2\" halign=\"left\">predicted</th>\n",
              "    </tr>\n",
              "    <tr>\n",
              "      <th></th>\n",
              "      <th></th>\n",
              "      <th>ham</th>\n",
              "      <th>spam</th>\n",
              "    </tr>\n",
              "  </thead>\n",
              "  <tbody>\n",
              "    <tr>\n",
              "      <th rowspan=\"2\" valign=\"top\">actual</th>\n",
              "      <th>ham</th>\n",
              "      <td>245</td>\n",
              "      <td>2</td>\n",
              "    </tr>\n",
              "    <tr>\n",
              "      <th>spam</th>\n",
              "      <td>14</td>\n",
              "      <td>228</td>\n",
              "    </tr>\n",
              "  </tbody>\n",
              "</table>\n",
              "</div>"
            ],
            "text/plain": [
              "            predicted     \n",
              "                  ham spam\n",
              "actual ham        245    2\n",
              "       spam        14  228"
            ]
          },
          "metadata": {
            "tags": []
          },
          "execution_count": 29
        }
      ]
    },
    {
      "cell_type": "markdown",
      "metadata": {
        "id": "_oquJPeB9hcK",
        "colab_type": "text"
      },
      "source": [
        "### IMPROVEMENTS"
      ]
    },
    {
      "cell_type": "markdown",
      "metadata": {
        "id": "q1UF6SU6-foi",
        "colab_type": "text"
      },
      "source": [
        "#### 1.DEEP LEARNING FEATURE FUNCTION\n",
        "####(Count Vectorisation implemented)"
      ]
    },
    {
      "cell_type": "code",
      "metadata": {
        "id": "95dm2fhO9hcK",
        "colab_type": "code",
        "colab": {}
      },
      "source": [
        "#VALIDATION\n",
        "#DEEP LEARNING MODEL\n",
        "\n",
        "NO_OF_FEATURES=2250\n",
        "word_features = list(all_words.keys())[:NO_OF_FEATURES]\n",
        "\n",
        "\n",
        "def find_features_dl(message):\n",
        "    words = word_tokenize(message)\n",
        "    features = []\n",
        "    for word in word_features:\n",
        "        features.append(1 if (word in words) else 0)\n",
        "\n",
        "    return features\n",
        "\n",
        "features = find_features_dl(str(processed[0]))\n"
      ],
      "execution_count": 0,
      "outputs": []
    },
    {
      "cell_type": "markdown",
      "metadata": {
        "id": "pW--koE1-MHI",
        "colab_type": "text"
      },
      "source": [
        ""
      ]
    },
    {
      "cell_type": "code",
      "metadata": {
        "id": "j-8PuRZX9hcM",
        "colab_type": "code",
        "colab": {},
        "outputId": "f96193d5-51a7-47cb-c010-3d85fb2f3e24"
      },
      "source": [
        "messages = list(zip(processed, classes))\n",
        "print(len(messages))\n",
        "\n",
        "seed = 1\n",
        "np.random.seed = seed\n",
        "np.random.shuffle(messages)\n",
        "\n",
        "featuresets = [(find_features_dl(text), label) for (text, label) in messages]"
      ],
      "execution_count": 0,
      "outputs": [
        {
          "output_type": "stream",
          "text": [
            "1956\n"
          ],
          "name": "stdout"
        }
      ]
    },
    {
      "cell_type": "code",
      "metadata": {
        "id": "s7KAjnOL9hcO",
        "colab_type": "code",
        "colab": {},
        "outputId": "bd9d3888-7b4b-4882-bcb7-0f3034e66407"
      },
      "source": [
        "\n",
        "from sklearn import model_selection\n",
        "\n",
        "training, testing = model_selection.train_test_split(featuresets, test_size = 0.25, random_state=seed)\n",
        "print(len(training))"
      ],
      "execution_count": 0,
      "outputs": [
        {
          "output_type": "stream",
          "text": [
            "1467\n"
          ],
          "name": "stdout"
        }
      ]
    },
    {
      "cell_type": "code",
      "metadata": {
        "id": "NVpdU0xy9hcQ",
        "colab_type": "code",
        "colab": {}
      },
      "source": [
        "len_train=len(training)\n",
        "validation=training[1100:]\n",
        "training=training[:1100]\n",
        "\n"
      ],
      "execution_count": 0,
      "outputs": []
    },
    {
      "cell_type": "code",
      "metadata": {
        "id": "YQPIlqBK9hcR",
        "colab_type": "code",
        "colab": {},
        "outputId": "c8637088-e8cd-4dc1-abd0-eb277775d3b0"
      },
      "source": [
        "print(len(training))\n",
        "print(len(validation))"
      ],
      "execution_count": 0,
      "outputs": [
        {
          "output_type": "stream",
          "text": [
            "1100\n",
            "367\n"
          ],
          "name": "stdout"
        }
      ]
    },
    {
      "cell_type": "code",
      "metadata": {
        "id": "0Ae7HBaz9hcT",
        "colab_type": "code",
        "colab": {}
      },
      "source": [
        "X_train=[]\n",
        "Y_train=[]\n",
        "for i in training:\n",
        "    X_train.append(i[0])\n",
        "    Y_train.append(i[1])\n",
        "\n"
      ],
      "execution_count": 0,
      "outputs": []
    },
    {
      "cell_type": "code",
      "metadata": {
        "id": "_42m4sAT9hcV",
        "colab_type": "code",
        "colab": {}
      },
      "source": [
        ""
      ],
      "execution_count": 0,
      "outputs": []
    },
    {
      "cell_type": "code",
      "metadata": {
        "id": "CN23GFhI9hcX",
        "colab_type": "code",
        "colab": {}
      },
      "source": [
        "X_test=[]\n",
        "Y_test=[]\n",
        "for i in testing:\n",
        "    X_test.append(i[0])\n",
        "    Y_test.append(i[1])"
      ],
      "execution_count": 0,
      "outputs": []
    },
    {
      "cell_type": "markdown",
      "metadata": {
        "id": "fvXLLS3HAbsq",
        "colab_type": "text"
      },
      "source": [
        "GETTING VALIDATION DATA FOR TUNING"
      ]
    },
    {
      "cell_type": "code",
      "metadata": {
        "id": "Id0iBPf79hcZ",
        "colab_type": "code",
        "colab": {}
      },
      "source": [
        "X_validation=[]\n",
        "Y_validation=[]\n",
        "for i in validation:\n",
        "    X_validation.append(i[0])\n",
        "    Y_validation.append(i[1])"
      ],
      "execution_count": 0,
      "outputs": []
    },
    {
      "cell_type": "code",
      "metadata": {
        "id": "dycJB4Dv9hcc",
        "colab_type": "code",
        "colab": {},
        "outputId": "809a671c-b017-44db-d4cf-8ad2a3f71a0e"
      },
      "source": [
        "model=tf.keras.Sequential([\n",
        "    tf.keras.layers.Dense(16,input_dim=NO_OF_FEATURES,activation='relu'),\n",
        "    tf.keras.layers.Dense(8,activation='relu'),\n",
        "    tf.keras.layers.Dense(1,activation='sigmoid')\n",
        "])\n",
        "\n",
        "model.summary()"
      ],
      "execution_count": 0,
      "outputs": [
        {
          "output_type": "stream",
          "text": [
            "Model: \"sequential_1\"\n",
            "_________________________________________________________________\n",
            "Layer (type)                 Output Shape              Param #   \n",
            "=================================================================\n",
            "dense_3 (Dense)              (None, 16)                36016     \n",
            "_________________________________________________________________\n",
            "dense_4 (Dense)              (None, 8)                 136       \n",
            "_________________________________________________________________\n",
            "dense_5 (Dense)              (None, 1)                 9         \n",
            "=================================================================\n",
            "Total params: 36,161\n",
            "Trainable params: 36,161\n",
            "Non-trainable params: 0\n",
            "_________________________________________________________________\n"
          ],
          "name": "stdout"
        }
      ]
    },
    {
      "cell_type": "code",
      "metadata": {
        "id": "oh23kof79hce",
        "colab_type": "code",
        "colab": {}
      },
      "source": [
        "#adam optimiser used to handle minima in non convex funtions\n",
        "\n",
        "model.compile(optimizer='adam',loss=tf.keras.losses.BinaryCrossentropy(),metrics=['accuracy',tf.keras.metrics.Precision(),tf.keras.metrics.Recall()])"
      ],
      "execution_count": 0,
      "outputs": []
    },
    {
      "cell_type": "code",
      "metadata": {
        "id": "vuP3eLs69hcg",
        "colab_type": "code",
        "colab": {},
        "outputId": "4d049361-e4b6-45ec-89bd-43eb5669275b"
      },
      "source": [
        "print(len(validation))"
      ],
      "execution_count": 0,
      "outputs": [
        {
          "output_type": "stream",
          "text": [
            "367\n"
          ],
          "name": "stdout"
        }
      ]
    },
    {
      "cell_type": "code",
      "metadata": {
        "id": "GXsYIBDU9hcj",
        "colab_type": "code",
        "colab": {},
        "outputId": "91f829b0-779a-4337-9066-ba9f3b7be04e"
      },
      "source": [
        "history=model.fit(X_train,Y_train,epochs=10,validation_data=(X_validation,Y_validation),batch_size=64)"
      ],
      "execution_count": 0,
      "outputs": [
        {
          "output_type": "stream",
          "text": [
            "Train on 1100 samples, validate on 367 samples\n",
            "Epoch 1/10\n",
            "1100/1100 [==============================] - 1s 841us/sample - loss: 0.6691 - accuracy: 0.5836 - precision_1: 0.5531 - recall_1: 0.9858 - val_loss: 0.6419 - val_accuracy: 0.6403 - val_precision_1: 0.5962 - val_recall_1: 0.9793\n",
            "Epoch 2/10\n",
            "1100/1100 [==============================] - 0s 71us/sample - loss: 0.6148 - accuracy: 0.7700 - precision_1: 0.6935 - recall_1: 0.9894 - val_loss: 0.5822 - val_accuracy: 0.8229 - val_precision_1: 0.7623 - val_recall_1: 0.9637\n",
            "Epoch 3/10\n",
            "1100/1100 [==============================] - 0s 63us/sample - loss: 0.5459 - accuracy: 0.9073 - precision_1: 0.8556 - recall_1: 0.9858 - val_loss: 0.5160 - val_accuracy: 0.8965 - val_precision_1: 0.8605 - val_recall_1: 0.9585\n",
            "Epoch 4/10\n",
            "1100/1100 [==============================] - 0s 63us/sample - loss: 0.4708 - accuracy: 0.9573 - precision_1: 0.9390 - recall_1: 0.9805 - val_loss: 0.4490 - val_accuracy: 0.9319 - val_precision_1: 0.9242 - val_recall_1: 0.9482\n",
            "Epoch 5/10\n",
            "1100/1100 [==============================] - 0s 71us/sample - loss: 0.3943 - accuracy: 0.9709 - precision_1: 0.9635 - recall_1: 0.9805 - val_loss: 0.3886 - val_accuracy: 0.9428 - val_precision_1: 0.9433 - val_recall_1: 0.9482\n",
            "Epoch 6/10\n",
            "1100/1100 [==============================] - 0s 63us/sample - loss: 0.3246 - accuracy: 0.9773 - precision_1: 0.9804 - recall_1: 0.9752 - val_loss: 0.3365 - val_accuracy: 0.9482 - val_precision_1: 0.9628 - val_recall_1: 0.9378\n",
            "Epoch 7/10\n",
            "1100/1100 [==============================] - 0s 63us/sample - loss: 0.2656 - accuracy: 0.9809 - precision_1: 0.9892 - recall_1: 0.9735 - val_loss: 0.2965 - val_accuracy: 0.9537 - val_precision_1: 0.9731 - val_recall_1: 0.9378\n",
            "Epoch 8/10\n",
            "1100/1100 [==============================] - 0s 63us/sample - loss: 0.2170 - accuracy: 0.9836 - precision_1: 0.9910 - recall_1: 0.9770 - val_loss: 0.2648 - val_accuracy: 0.9455 - val_precision_1: 0.9676 - val_recall_1: 0.9275\n",
            "Epoch 9/10\n",
            "1100/1100 [==============================] - 0s 57us/sample - loss: 0.1786 - accuracy: 0.9855 - precision_1: 0.9928 - recall_1: 0.9788 - val_loss: 0.2430 - val_accuracy: 0.9428 - val_precision_1: 0.9674 - val_recall_1: 0.9223\n",
            "Epoch 10/10\n",
            "1100/1100 [==============================] - 0s 63us/sample - loss: 0.1482 - accuracy: 0.9864 - precision_1: 0.9946 - recall_1: 0.9788 - val_loss: 0.2265 - val_accuracy: 0.9373 - val_precision_1: 0.9620 - val_recall_1: 0.9171\n"
          ],
          "name": "stdout"
        }
      ]
    },
    {
      "cell_type": "code",
      "metadata": {
        "id": "IddyB2QT9hcl",
        "colab_type": "code",
        "colab": {}
      },
      "source": [
        "loss,accuracy,precision,recall= model.evaluate(X_test, Y_test, verbose=False)"
      ],
      "execution_count": 0,
      "outputs": []
    },
    {
      "cell_type": "code",
      "metadata": {
        "id": "93uyGUTy9hco",
        "colab_type": "code",
        "colab": {},
        "outputId": "740cfc9d-cae2-4994-983a-14777b823f69"
      },
      "source": [
        "print(\"loss: \",loss,\"accuracy: \",accuracy,\"precision: \",precision,\"recall: \",recall)"
      ],
      "execution_count": 0,
      "outputs": [
        {
          "output_type": "stream",
          "text": [
            "loss:  0.2120346234071474 accuracy:  0.94887525 precision:  0.9586777 recall:  0.9392713\n"
          ],
          "name": "stdout"
        }
      ]
    },
    {
      "cell_type": "code",
      "metadata": {
        "id": "M1Z9t6vE9hcq",
        "colab_type": "code",
        "colab": {},
        "outputId": "9b48cb68-2021-4e13-a23c-f1dabf5f94ae"
      },
      "source": [
        "print(history.history.keys())"
      ],
      "execution_count": 0,
      "outputs": [
        {
          "output_type": "stream",
          "text": [
            "dict_keys(['loss', 'accuracy', 'precision_1', 'recall_1', 'val_loss', 'val_accuracy', 'val_precision_1', 'val_recall_1'])\n"
          ],
          "name": "stdout"
        }
      ]
    }
  ]
}